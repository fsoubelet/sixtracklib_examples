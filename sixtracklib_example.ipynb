{
 "cells": [
  {
   "cell_type": "code",
   "execution_count": 1,
   "metadata": {},
   "outputs": [],
   "source": [
    "import numpy as np\n",
    "\n",
    "import pysixtrack\n",
    "import sixtracklib"
   ]
  },
  {
   "cell_type": "code",
   "execution_count": 2,
   "metadata": {},
   "outputs": [],
   "source": [
    "def get_sixtracklib_particle_set(init_physical_coordinates: np.ndarray, p0c_ev: float):\n",
    "    n_particles = init_physical_coordinates.shape[0]\n",
    "    ps = sixtracklib.ParticlesSet()\n",
    "    p = ps.Particles(num_particles=n_particles)\n",
    "\n",
    "    for i_part in range(n_particles):\n",
    "        part = pysixtrack.Particles(p0c=p0c_ev)\n",
    "\n",
    "        part.x = init_physical_coordinates[i_part, 0]\n",
    "        part.px = init_physical_coordinates[i_part, 1]\n",
    "        part.y = init_physical_coordinates[i_part, 2]\n",
    "        part.py = init_physical_coordinates[i_part, 3]\n",
    "        part.tau = init_physical_coordinates[i_part, 4]\n",
    "        part.ptau = init_physical_coordinates[i_part, 5]\n",
    "\n",
    "        part.partid = i_part\n",
    "        part.state = 1\n",
    "        part.elemid = 0\n",
    "        part.turn = 0\n",
    "\n",
    "        p.from_pysixtrack(part, i_part)\n",
    "\n",
    "    return ps"
   ]
  },
  {
   "cell_type": "code",
   "execution_count": 3,
   "metadata": {},
   "outputs": [],
   "source": [
    "from cpymad.madx import Madx\n",
    "\n",
    "madx = Madx(stdout=False)\n",
    "madx.call(\"lhc_colin_track.seq\")\n",
    "madx.use(\"lhcb1\")  # if not called, no beam present in sequence???\n",
    "_ = madx.twiss()  # if not called, cavities don't get a frequency???"
   ]
  },
  {
   "cell_type": "code",
   "execution_count": 4,
   "metadata": {},
   "outputs": [],
   "source": [
    "# Line and sixtracklib Elements\n",
    "line = pysixtrack.Line.from_madx_sequence(madx.sequence[\"lhcb1\"])\n",
    "\n",
    "# Only the coordinates at the end of tracking. To keep coordinates at each\n",
    "# turn, give \"num_stores=nturns\" when creating the BeamMonitor element\n",
    "_ = line.append_element(pysixtrack.elements.BeamMonitor(num_stores=1, is_rolling=True), \"turn_monitor\")\n",
    "elements = sixtracklib.Elements.from_line(line)"
   ]
  },
  {
   "cell_type": "code",
   "execution_count": 5,
   "metadata": {},
   "outputs": [
    {
     "name": "stdout",
     "output_type": "stream",
     "text": [
      "Closed orbit search iteration: 0\n",
      "Closed orbit search iteration: 1\n",
      "Converged with approximate distance: 2.7900680536855902e-16\n",
      "Symplectifying linear One-Turn-Map...\n",
      "Before symplectifying: det(M) = 1.000139999286489\n",
      "After symplectifying: det(M) = 0.9999999999999987\n"
     ]
    }
   ],
   "source": [
    "# CO, Linear_OTM and W\n",
    "closed_orbit, linear_otm = line.find_closed_orbit_and_linear_OTM(\n",
    "    p0c=madx.sequence[\"lhcb1\"].beam.pc * 1e9, longitudinal_coordinate=\"tau\"\n",
    ")\n",
    "W, invW, R = line.linear_normal_form(linear_otm)"
   ]
  },
  {
   "cell_type": "markdown",
   "metadata": {},
   "source": [
    "## Create distribution\n",
    "---"
   ]
  },
  {
   "cell_type": "code",
   "execution_count": 6,
   "metadata": {},
   "outputs": [],
   "source": [
    "n_parts = 1_500\n",
    "energy = 6500\n",
    "geometric_emittance = 3.75e-6 / (energy / 0.938);"
   ]
  },
  {
   "cell_type": "code",
   "execution_count": 7,
   "metadata": {},
   "outputs": [],
   "source": [
    "# Get normalized coordinates yolo style\n",
    "x_normalized = list(np.random.normal(0, np.sqrt(geometric_emittance), n_parts))\n",
    "px_normalized = list(np.random.normal(0, np.sqrt(geometric_emittance), n_parts))\n",
    "y_normalized = list(np.random.normal(0, np.sqrt(geometric_emittance), n_parts))\n",
    "py_normalized = list(np.random.normal(0, np.sqrt(geometric_emittance), n_parts))\n",
    "tau_normalized = list(np.random.normal(0, 125 * np.sqrt(geometric_emittance), n_parts))\n",
    "ptau_normalized = list(np.random.normal(0, 125 * np.sqrt(geometric_emittance), n_parts))\n",
    "normalized_coordinates = np.array(\n",
    "    [x_normalized, px_normalized, y_normalized, py_normalized, tau_normalized, ptau_normalized]\n",
    ")"
   ]
  },
  {
   "cell_type": "code",
   "execution_count": 8,
   "metadata": {},
   "outputs": [
    {
     "name": "stdout",
     "output_type": "stream",
     "text": [
      "0.08070833207345422\n",
      "0.001473525801841619\n"
     ]
    }
   ],
   "source": [
    "# Go from normalized to physical and center on closed orbit\n",
    "initial_coordinates = (W @ normalized_coordinates).T\n",
    "initial_coordinates += closed_orbit\n",
    "\n",
    "# make sure that stdev of tau (~ bunch length) is correct, should be around 0.08 meters\n",
    "print(initial_coordinates[:, 4].std())\n",
    "# the error is stdev / sqrt(2 * n_part)\n",
    "print(initial_coordinates[:, 4].std() / np.sqrt(2 * n_parts))"
   ]
  },
  {
   "cell_type": "markdown",
   "metadata": {},
   "source": [
    "## Prepare Job & Track \n",
    "---"
   ]
  },
  {
   "cell_type": "code",
   "execution_count": 9,
   "metadata": {},
   "outputs": [],
   "source": [
    "particle_set = get_sixtracklib_particle_set(\n",
    "    init_physical_coordinates=initial_coordinates, p0c_ev=madx.sequence[\"lhcb1\"].beam.pc * 1e9\n",
    ")\n",
    "particle_set.to_file(\"here.particleset\")"
   ]
  },
  {
   "cell_type": "code",
   "execution_count": 10,
   "metadata": {},
   "outputs": [],
   "source": [
    "# Or from dumped file\n",
    "# particle_set = sixtracklib.ParticlesSet.fromfile(\"here.particleset\")"
   ]
  },
  {
   "cell_type": "code",
   "execution_count": 11,
   "metadata": {},
   "outputs": [
    {
     "name": "stdout",
     "output_type": "stream",
     "text": [
      "Platform #0: Apple\n",
      " +-- Device #0: Intel(R) Core(TM) i7-8850H CPU @ 2.60GHz\n",
      " +-- Device #1: Intel(R) UHD Graphics 630\n",
      " `-- Device #2: AMD Radeon Pro Vega 20 Compute Engine\n"
     ]
    }
   ],
   "source": [
    "!clinfo -l"
   ]
  },
  {
   "cell_type": "code",
   "execution_count": 12,
   "metadata": {},
   "outputs": [
    {
     "name": "stdout",
     "output_type": "stream",
     "text": [
      "CPU times: user 47.5 s, sys: 96.4 ms, total: 47.6 s\n",
      "Wall time: 47.7 s\n"
     ]
    },
    {
     "data": {
      "text/plain": [
       "<sixtracklib.trackjob.TrackJob at 0x7fd72066cdf0>"
      ]
     },
     "execution_count": 12,
     "metadata": {},
     "output_type": "execute_result"
    }
   ],
   "source": [
    "%%time\n",
    "job = sixtracklib.TrackJob(elements, particle_set)\n",
    "job.track_until(50)"
   ]
  },
  {
   "cell_type": "code",
   "execution_count": 13,
   "metadata": {},
   "outputs": [],
   "source": [
    "final_output = {\n",
    "    \"x\": job.output.particles[0].x,\n",
    "    \"px\": job.output.particles[0].px,\n",
    "    \"y\": job.output.particles[0].y,\n",
    "    \"py\": job.output.particles[0].py,\n",
    "    \"zeta\": job.output.particles[0].zeta,\n",
    "    \"delta\": job.output.particles[0].delta,\n",
    "    \"at_turn\": job.output.particles[0].at_turn,\n",
    "}"
   ]
  },
  {
   "cell_type": "code",
   "execution_count": 14,
   "metadata": {},
   "outputs": [
    {
     "data": {
      "text/plain": [
       "{'x': array([-1.64800797e-04, -1.41418358e-05, -1.14812044e-04, ...,\n",
       "         3.25474027e-04,  4.83731632e-05, -6.68094416e-04]),\n",
       " 'px': array([ 4.95929672e-06, -1.29089973e-06, -3.10657556e-07, ...,\n",
       "        -2.91100891e-06,  3.19001016e-06,  1.03747590e-05]),\n",
       " 'y': array([-1.06074570e-04, -1.26723040e-04,  1.63018217e-04, ...,\n",
       "        -4.44267612e-04,  6.51436746e-05,  6.52553810e-04]),\n",
       " 'py': array([-1.71288314e-06, -2.13843943e-06,  2.71991738e-06, ...,\n",
       "        -7.89238191e-06, -1.11585150e-06,  5.18905012e-06]),\n",
       " 'zeta': array([-0.01283145,  0.03368718, -0.06046398, ...,  0.03010833,\n",
       "        -0.07278874, -0.1081616 ]),\n",
       " 'delta': array([-1.10688307e-04,  8.64534097e-05,  4.34293672e-05, ...,\n",
       "        -1.94929299e-04, -1.10335175e-04,  1.69393384e-04]),\n",
       " 'at_turn': array([49, 49, 49, ..., 49, 49, 49])}"
      ]
     },
     "execution_count": 14,
     "metadata": {},
     "output_type": "execute_result"
    }
   ],
   "source": [
    "final_output"
   ]
  },
  {
   "cell_type": "code",
   "execution_count": 15,
   "metadata": {},
   "outputs": [
    {
     "data": {
      "text/plain": [
       "array([-0.01283145,  0.03368718, -0.06046398, ...,  0.03010833,\n",
       "       -0.07278874, -0.1081616 ])"
      ]
     },
     "execution_count": 15,
     "metadata": {},
     "output_type": "execute_result"
    }
   ],
   "source": [
    "# trick to get tau and ptau: define a Particle with these results in pysixtrack and get the results from there\n",
    "p = pysixtrack.Particles(p0c=madx.sequence[\"lhcb1\"].beam.pc * 1e9)\n",
    "p.zeta = final_output[\"zeta\"]\n",
    "p.delta = final_output[\"delta\"]\n",
    "p.tau"
   ]
  },
  {
   "cell_type": "markdown",
   "metadata": {},
   "source": [
    "---"
   ]
  }
 ],
 "metadata": {
  "kernelspec": {
   "display_name": "sixtracklib",
   "language": "python",
   "name": "sixtracklib"
  },
  "language_info": {
   "codemirror_mode": {
    "name": "ipython",
    "version": 3
   },
   "file_extension": ".py",
   "mimetype": "text/x-python",
   "name": "python",
   "nbconvert_exporter": "python",
   "pygments_lexer": "ipython3",
   "version": "3.8.5"
  }
 },
 "nbformat": 4,
 "nbformat_minor": 4
}
